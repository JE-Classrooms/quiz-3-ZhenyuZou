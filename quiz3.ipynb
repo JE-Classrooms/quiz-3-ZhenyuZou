{
 "cells": [
  {
   "cell_type": "markdown",
   "metadata": {},
   "source": [
    "# Quiz 3\n",
    "\n",
    "**Author:**"
   ]
  },
  {
   "cell_type": "markdown",
   "metadata": {},
   "source": [
    "**Exercise 1:** \n",
    "\n",
    "1. Import the nobel price data frame using pandas.\n",
    "\n",
    "2. Explore the data set: \n",
    "\n",
    "    2.1. Print the first five rows of the table.\n",
    "\n",
    "    2.2. Print all the columns in the table.\n",
    "\n",
    "    2.3. Print the types of all the columns in the table.\n",
    "\n",
    "    2.4. Would the describe function give us any useful information of this data? (answer based on the data types of the columns).\n",
    "\n",
    "3. Select only the gender column. Using a lambda function and the filter function, calculate the number and proportion of woman who have won the nobel price.\n",
    "\n",
    "4. Select the column gender and save it in an object called ```g```. Do the same with the column category, and save it in an object called ```c```. Create a new object ```gc = g + c``` and print the content. \n",
    "\n",
    "5. Use the object ```gc```, a lambda function and the filter function to calculate the number and proportion of females that have won the economics novel price. Compare that number with the total number of females that have won any nobel price (from question 3) "
   ]
  },
  {
   "cell_type": "code",
   "execution_count": 32,
   "metadata": {},
   "outputs": [],
   "source": [
    "import pandas as pd\n",
    "import os\n",
    "nobel=pd.read_csv('data/nobel_prize.csv')"
   ]
  },
  {
   "cell_type": "code",
   "execution_count": 33,
   "metadata": {},
   "outputs": [
    {
     "name": "stdout",
     "output_type": "stream",
     "text": [
      "   index   id         firstname  surname        born        died bornCountry  \\\n",
      "0      0  846            Elinor   Ostrom    8/7/1933   6/12/2012         USA   \n",
      "1      1  846            Elinor   Ostrom    8/7/1933   6/12/2012         USA   \n",
      "2      2  783      Wangari Muta  Maathai    4/1/1940   9/25/2011       Kenya   \n",
      "3      3  230  Dorothy Crowfoot  Hodgkin   5/12/1910   7/29/1994       Egypt   \n",
      "4      4  918            Youyou       Tu  12/30/1930  0000-00-00       China   \n",
      "\n",
      "  bornCountryCode         bornCity     diedCountry  ...           diedCity  \\\n",
      "0              US  Los Angeles, CA             USA  ...    Bloomington, IN   \n",
      "1              US  Los Angeles, CA             USA  ...    Bloomington, IN   \n",
      "2              KE            Nyeri           Kenya  ...            Nairobi   \n",
      "3              EG            Cairo  United Kingdom  ...  Shipston-on-Stour   \n",
      "4              CN  Zhejiang Ningbo             NaN  ...                NaN   \n",
      "\n",
      "   gender    year   category overallMotivation share  \\\n",
      "0  female  2009.0  economics               NaN   2.0   \n",
      "1  female  2009.0  economics               NaN   2.0   \n",
      "2  female  2004.0      peace               NaN   1.0   \n",
      "3  female  1964.0  chemistry               NaN   1.0   \n",
      "4  female  2015.0   medicine               NaN   2.0   \n",
      "\n",
      "                                          motivation  \\\n",
      "0  \"for her analysis of economic governance, espe...   \n",
      "1  \"for her analysis of economic governance, espe...   \n",
      "2  \"for her contribution to sustainable developme...   \n",
      "3  \"for her determinations by X-ray techniques of...   \n",
      "4  \"for her discoveries concerning a novel therap...   \n",
      "\n",
      "                                            name             city  \\\n",
      "0                             Indiana University  Bloomington, IN   \n",
      "1                       Arizona State University        Tempe, AZ   \n",
      "2                                            NaN              NaN   \n",
      "3            University of Oxford, Royal Society           Oxford   \n",
      "4  China Academy of Traditional Chinese Medicine          Beijing   \n",
      "\n",
      "          country  \n",
      "0             USA  \n",
      "1             USA  \n",
      "2             NaN  \n",
      "3  United Kingdom  \n",
      "4           China  \n",
      "\n",
      "[5 rows x 21 columns]\n",
      "Index(['index', 'id', 'firstname', 'surname', 'born', 'died', 'bornCountry',\n",
      "       'bornCountryCode', 'bornCity', 'diedCountry', 'diedCountryCode',\n",
      "       'diedCity', 'gender', 'year', 'category', 'overallMotivation', 'share',\n",
      "       'motivation', 'name', 'city', 'country'],\n",
      "      dtype='object')\n",
      "[<class 'str'>, <class 'str'>, <class 'str'>, <class 'str'>, <class 'str'>, <class 'str'>, <class 'str'>, <class 'str'>, <class 'str'>, <class 'str'>, <class 'str'>, <class 'str'>, <class 'str'>, <class 'str'>, <class 'str'>, <class 'str'>, <class 'str'>, <class 'str'>, <class 'str'>, <class 'str'>, <class 'str'>]\n",
      "the describe function does not give us useful information because all the variables in the nobel prize data set are string\n"
     ]
    }
   ],
   "source": [
    "print(nobel.head())\n",
    "print(nobel.columns)\n",
    "x=list(map(lambda x:type(x),nobel))\n",
    "print(x)\n",
    "nobel.describe()\n",
    "print('the describe function does not give us useful information because all the variables in the nobel prize data set are string')\n"
   ]
  },
  {
   "cell_type": "code",
   "execution_count": 34,
   "metadata": {},
   "outputs": [
    {
     "name": "stdout",
     "output_type": "stream",
     "text": [
      "the proportion of women who have won the nobel prize is  0.051440329218107\n"
     ]
    }
   ],
   "source": [
    "g=nobel['gender']\n",
    "w=list(filter(lambda x: x=='female',g))\n",
    "print('the proportion of women who have won the nobel prize is ',len(w)/len(g))"
   ]
  },
  {
   "cell_type": "code",
   "execution_count": 35,
   "metadata": {},
   "outputs": [
    {
     "name": "stdout",
     "output_type": "stream",
     "text": [
      "0      femaleeconomics\n",
      "1      femaleeconomics\n",
      "2          femalepeace\n",
      "3      femalechemistry\n",
      "4       femalemedicine\n",
      "            ...       \n",
      "967           orgpeace\n",
      "968           orgpeace\n",
      "969           orgpeace\n",
      "970           orgpeace\n",
      "971           orgpeace\n",
      "Length: 972, dtype: object\n",
      "the proportion of female economics nobel winner among all the nobel prize winner is  0.00205761316872428\n"
     ]
    }
   ],
   "source": [
    "c=nobel['category']\n",
    "gc=g+c\n",
    "print(gc)\n",
    "fe=list(filter(lambda x:x=='femaleeconomics',gc))\n",
    "print('the proportion of female economics nobel winner among all the nobel prize winner is ',len(fe)/len(g))"
   ]
  }
 ],
 "metadata": {
  "kernelspec": {
   "display_name": "conda_amazonei_mxnet_p36",
   "language": "python",
   "name": "conda_amazonei_mxnet_p36"
  },
  "language_info": {
   "codemirror_mode": {
    "name": "ipython",
    "version": 3
   },
   "file_extension": ".py",
   "mimetype": "text/x-python",
   "name": "python",
   "nbconvert_exporter": "python",
   "pygments_lexer": "ipython3",
   "version": "3.6.13"
  },
  "vscode": {
   "interpreter": {
    "hash": "11838f79d2aaadbfa3a2adfaf35bacdebdb4e8d9b63957ddf298964812544a76"
   }
  }
 },
 "nbformat": 4,
 "nbformat_minor": 4
}
